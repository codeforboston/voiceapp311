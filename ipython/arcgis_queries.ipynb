{
  "nbformat": 4,
  "nbformat_minor": 0,
  "metadata": {
    "colab": {
      "name": "arcgis_queries.ipynb",
      "version": "0.3.2",
      "provenance": [],
      "collapsed_sections": [
        "arhrUlqIaRMA",
        "1UaECvF4aNCY",
        "hvKaEx3f2MAv",
        "AO25_YfoY6ug"
      ]
    },
    "kernelspec": {
      "name": "python3",
      "display_name": "Python 3"
    }
  },
  "cells": [
    {
      "metadata": {
        "id": "4E5zeVkY2LGK",
        "colab_type": "text"
      },
      "cell_type": "markdown",
      "source": [
        "# Base Queries to the ARCGIS Server\n",
        "Below you will find helper functions to work with the ArcGIS feature server, as well as sample uses of these function that hit the City of Boston feature server (`https://services.arcgis.com/sFnw0xNflSi8J0uh/ArcGIS/rest/services`).\n",
        "\n",
        "To run the code, first install the `arcgis` module, then run the helper functions cell."
      ]
    },
    {
      "metadata": {
        "id": "arhrUlqIaRMA",
        "colab_type": "text"
      },
      "cell_type": "markdown",
      "source": [
        "## Helper Functions\n",
        "Run this first"
      ]
    },
    {
      "metadata": {
        "id": "YFNIj47TjSBo",
        "colab_type": "code",
        "colab": {}
      },
      "cell_type": "code",
      "source": [
        "!pip install arcgis==1.4.0"
      ],
      "execution_count": 0,
      "outputs": []
    },
    {
      "metadata": {
        "id": "664w-NLcaUuQ",
        "colab_type": "code",
        "colab": {}
      },
      "cell_type": "code",
      "source": [
        "from arcgis.gis import *\n",
        "from arcgis.features import FeatureLayer\n",
        "from arcgis.geocoding import geocode\n",
        "from arcgis import geometry\n",
        "from arcgis import network\n",
        "from pprint import pprint\n",
        "import datetime\n",
        "import requests\n",
        "\n",
        "gis = GIS()\n",
        "QUERY = { 'where': '1=1', 'out_sr': '4326' }\n",
        "DAY = datetime.datetime.today().strftime('%A')\n",
        "MILE = 1600\n",
        "RESOURCEID = \"12cb3883-56f5-47de-afa5-3b1cf61b257b\"\n",
        "CRIME_INCIDENTS_SQL_URL = \"https://data.boston.gov/api/3/action/datastore_search_sql\"\n",
        "QUERY_LIMIT = 5\n",
        "\n",
        "\n",
        "def get_crime_incident_response(address):\n",
        "    \"\"\"\n",
        "    Executes and returns the crime incident request response\n",
        "\n",
        "    :param address: address to query\n",
        "    :return: the raw json response\n",
        "\n",
        "    \"\"\"\n",
        "    url_parameters = {\"sql\": _build_query_string(address)}\n",
        "    with requests.Session() as session:\n",
        "        response = session.get(CRIME_INCIDENTS_SQL_URL, params=url_parameters)\n",
        "\n",
        "    if response.status_code == requests.codes.ok:\n",
        "        return response.json()\n",
        "    return {}\n",
        "\n",
        "  \n",
        "def _build_query_string(address):\n",
        "    \"\"\"\n",
        "    Builds the SQL query given an address\n",
        "\n",
        "    :param address: address to query\n",
        "    :return: a SQL query string\n",
        "\n",
        "    \"\"\"\n",
        "    coordinates = _get_coordinates_for_address(address)\n",
        "    return \"\"\"SELECT * FROM \"{}\" WHERE \"lat\" LIKE '{}%' AND \\\n",
        "        \"long\" LIKE '{}%' LIMIT {}\"\"\" \\\n",
        "        .format(RESOURCEID,\n",
        "                coordinates[0],\n",
        "                coordinates[1],\n",
        "                QUERY_LIMIT)\n",
        "  \n",
        "\n",
        "def get_features_from_feature_server(url, query):\n",
        "  \"\"\"\n",
        "  Given a url to a City of Boston Feature Server, return a list\n",
        "  of Features (for example, parking lots that are not full)\n",
        "\n",
        "  :param url: url for Feature Server\n",
        "  :param query: query to select features (example: \"Spaces > 0\")\n",
        "  :return: list of all features returned from the query\n",
        "  \"\"\"\n",
        "  features = []\n",
        "  f = FeatureLayer(url = url)\n",
        "  feature_set = f.query(**query)\n",
        "  for feature in feature_set:\n",
        "      features.append(feature.as_dict)\n",
        "  return features\n",
        "\n",
        "\n",
        "def geocode_address(m_address):\n",
        "    \"\"\"\n",
        "    :param m_address: address of interest in street form\n",
        "    :return: address in coordinate (X and Y) form\n",
        "    \"\"\"\n",
        "    m_address = m_address + \", City: Boston, State: MA\"\n",
        "    m_location = geocode(address=m_address)[0]\n",
        "    return m_location['location']\n",
        "  \n",
        "  \n",
        "def get_geodesic_distance(feature1, feature2):\n",
        "  geometry1 = feature1#['geometry']\n",
        "  geometry2 = feature2['geometry']\n",
        "  spation_ref = {\"wkid\" : 4326}\n",
        "  return geometry.distance(spation_ref, \n",
        "                           geometry1, \n",
        "                           geometry2,\n",
        "                           distance_unit='', \n",
        "                           geodesic=True)['distance']\n",
        "\n",
        "\n",
        "def get_feature_location(url, query):\n",
        "  return get_features_from_feature_server(url, query)\n",
        "  \n",
        "\n",
        "def _get_coordinates_for_address(address):\n",
        "    \"\"\"\n",
        "    Populates the GPS coordinates for the provided address\n",
        "\n",
        "    :param address: address to query\n",
        "    :return: a tuple of the form (lat, long)\n",
        "\n",
        "    \"\"\"\n",
        "    coordinates = geocode_address(address)\n",
        "    _lat = \"{:.2f}\".format(float(coordinates['y']))\n",
        "    _long = \"{:.2f}\".format(float(coordinates['x']))\n",
        "    return _lat, _long\n",
        "  \n",
        "  \n",
        "\n"
      ],
      "execution_count": 0,
      "outputs": []
    },
    {
      "metadata": {
        "id": "1UaECvF4aNCY",
        "colab_type": "text"
      },
      "cell_type": "markdown",
      "source": [
        "## Grocery Stores in Boston"
      ]
    },
    {
      "metadata": {
        "id": "pHZM3dPwqm2Q",
        "colab_type": "code",
        "outputId": "9a93df13-4d1b-4347-bd99-14857c728747",
        "colab": {
          "base_uri": "https://localhost:8080/",
          "height": 1275
        }
      },
      "cell_type": "code",
      "source": [
        "grocery_url = \"https://services.arcgis.com/sFnw0xNflSi8J0uh/ArcGIS/rest/services/Supermarkets_GroceryStores/FeatureServer/0\"\n",
        "\n",
        "# this will return a list of all grocery stores Boston\n",
        "grocery = get_feature_location(grocery_url, QUERY)\n",
        "pprint(grocery[0])\n",
        "print()\n",
        "\n",
        "for g in grocery:\n",
        "  print(g['attributes']['Store'] + ' is located in ' \n",
        "        + g['attributes']['Neighborho'] + ' at ' \n",
        "        + g['attributes']['Address'])\n"
      ],
      "execution_count": 0,
      "outputs": [
        {
          "output_type": "stream",
          "text": [
            "{'attributes': {'Address': '370 Western Avenue',\n",
            "                'FID': 1,\n",
            "                'Lat': 42.3609803747,\n",
            "                'Lon': -71.137830016,\n",
            "                'Neighborho': 'Allston',\n",
            "                'ObjectID': 1,\n",
            "                'Store': 'Star Market',\n",
            "                'Type': 'Supermarket',\n",
            "                'Zip': '02135'},\n",
            " 'geometry': {'x': -71.13783063274357, 'y': 42.360989045712415}}\n",
            "\n",
            "Star Market is located in Allston at 370 Western Avenue\n",
            "Hong Kong Supermarket is located in Allston at 1 Brighton Avenue\n",
            "Star Market is located in Back Bay at 53 Huntington Avenue\n",
            "Trader Joe's is located in Back Bay at 899 Boylston Street\n",
            "Whole Foods Market is located in Brighton at 15 Washington Street\n",
            "Star Market is located in Brighton at 1065 Commonwealth Avenue\n",
            "Super Stop & Shop is located in Allston at 60 Everett Street\n",
            "America's Food Basket is located in Dorchester at 500 Geneva Avenue\n",
            "America's Food Basket is located in Dorchester at 576 Washington Street\n",
            "Star Market is located in Dorchester at 45 Morrissey Boulevard\n",
            "Star Market is located in Mattapan at 4 River Street\n",
            "(Super) Stop & Shop is located in Dorchester at 545 Freeport Street\n",
            "Kam Man Food is located in Dorchester at 101 Allstate Road\n",
            "Super Stop & Shop is located in Dorchester at 1100 Massachusetts Avenue\n",
            "Shaw's is located in East Boston at 246 Border Street\n",
            "Whole Foods Market is located in Fenway at 15 Westland Avenue\n",
            "Star Market is located in Fenway at 33 Kilmarnock Street\n",
            "America's Food Basket is located in Hyde Park at 942 Hyde Park Avenue\n",
            "Shaw's is located in Hyde Park at 1377 Hyde Park Avenue\n",
            "Stop & Shop is located in Hyde Park at 1025 Truman Parkway\n",
            "Price Rite is located in Hyde Park at 870 River Street\n",
            "Harvest Co-Op Market is located in Jamaica Plain at 3815 Washington Street\n",
            "Whole Foods is located in Jamaica Plain at 415 Centre Street\n",
            "Stop & Shop is located in Jamaica Plain at 301 Centre Street\n",
            "Mars Farmers Market is located in Mattapan at 926 Cummins Highway\n",
            "Stop & Shop is located in Mission Hill at 1620 Tremont Street\n",
            "Save A Lot is located in Roslindale at 650 American Legion Highway\n",
            "The Village Market is located in Roslindale at 30 Corinth Street\n",
            "Stop & Shop is located in Roslindale at 950 American Legion Highway\n",
            "Save A Lot is located in Roxbury at 330 Martin Luther King Boulevard\n",
            "Stop & Shop is located in Roxbury at 460 Blue Hill Avenue\n",
            "Tropical Foods is located in Roxbury at 2101 Washington Street\n",
            "Foodie's Urban Market is located in South Boston at 230 West Broadway\n",
            "Stop & Shop is located in South Boston at 713 East Broadway\n",
            "Foodie's Urban Market is located in South End at 1421 Washington Street\n",
            "Ming's Supermarket is located in South End/Chinatown at 1102 Washington Street\n",
            "C-Mart Supermarket is located in South End/Chinatown at 50 Herald Street\n",
            "Whole Foods Market is located in West End at 181 Cambridge Street\n",
            "Roche Brothers is located in West Roxbury at 1800 Centre Street\n",
            "Star Market is located in West Roxbury at 75 Spring Street\n",
            "Whole Foods is located in Charlestown at 51 Austin Street\n",
            "Roche Brothers is located in Downtown at 8 Summer Street\n",
            "Whole Foods is located in South End at 348 Harrison Ave\n",
            "BFresh is located in Allston at 214 HARVARD AVE\n",
            "C-Mart Supermarket is located in Leather District at 109 LINCOLN ST\n",
            "Wollaston's Market is located in Fenway at 369 HUNTINGTON AVE\n",
            "Golden Goose is located in North End at 179 Commercial Street\n",
            "Brothers Supermarket is located in Dorchester at 776 DUDLEY ST\n",
            "Brothers Supermarket is located in Dorchester at 46 WASHINGTON ST\n",
            "America's Food Basket is located in Dorchester at 576 WASHINGTON STREET\n",
            "America's Food Basket is located in Dorchester at 500 GENEVA AVE\n",
            "America's Food Basket is located in Mattapan at 926 CUMMINS HWY\n",
            "America's Food Basket is located in Dorchester at 217 BOWDOIN ST\n",
            "Bazaar on Cambridge St is located in Allston at 424 CAMBRIDGE ST\n",
            "BFresh is located in BFresh at 470 WASHINGTON ST\n",
            "Foodie's Urban Market is located in South Boston Waterfront at 230 W BROADWAY\n",
            "Jia Ho Supermarket is located in Downtown at 692 WASHINGTON ST\n",
            "New Vien Dong Far East Supermarket is located in Dorchester at 1159 DORCHESTER AVE\n",
            "New York Mart is located in Dorchester at 1102 WASHINGTON STREET\n",
            "Phu Chong Market is located in Dorchester at 1188 DORCHESTER AVE\n",
            "Shaw's/Star Market is located in East Boston at 246 BORDER ST\n",
            "Troung Thinh 2 is located in Dorchester at 1305 DORCHESTER AVE\n",
            "Daily Table is located in Dorchester at 450 WASHINGTON ST\n"
          ],
          "name": "stdout"
        }
      ]
    },
    {
      "metadata": {
        "id": "hvKaEx3f2MAv",
        "colab_type": "text"
      },
      "cell_type": "markdown",
      "source": [
        "## Food trucks today"
      ]
    },
    {
      "metadata": {
        "id": "xTOyWxGEtD3b",
        "colab_type": "code",
        "outputId": "6d593127-3bf4-4087-ffdd-3aaacebec8d5",
        "colab": {
          "base_uri": "https://localhost:8080/",
          "height": 1666
        }
      },
      "cell_type": "code",
      "source": [
        "food_trucks_url = 'https://services.arcgis.com/sFnw0xNflSi8J0uh/arcgis/rest/services/food_trucks_schedule/FeatureServer/0'\n",
        "address = geocode_address('120 Boylston St')\n",
        "\n",
        "# this will return a list of all available food trucks in Boston\n",
        "trucks = get_feature_location(food_trucks_url, QUERY)\n",
        "trucks_today = []\n",
        "for t in trucks:\n",
        "  if(t['attributes']['Day'] == DAY and t['attributes']['Time'] == 'Lunch'):\n",
        "    trucks_today.append(t)\n",
        "\n",
        "pprint(trucks_today[0])    \n",
        "\n",
        "for t in trucks_today:\n",
        "  distance = get_geodesic_distance(address, t)\n",
        "  if distance <= MILE:\n",
        "    print(t['attributes']['Truck'] + ' is located at ' + \\\n",
        "          t['attributes']['Loc'] + ' between ' + \\\n",
        "          t['attributes']['Start_time'] + ' and ' + \\\n",
        "          t['attributes']['End_time'] + '\\n')\n"
      ],
      "execution_count": 0,
      "outputs": [
        {
          "output_type": "stream",
          "text": [
            "{'attributes': {'CreationDate': 1520268574231,\n",
            "                'Creator': '143525_boston',\n",
            "                'Day': 'Wednesday',\n",
            "                'EditDate': 1520268574231,\n",
            "                'Editor': '143525_boston',\n",
            "                'End_time': '3:00:00 PM',\n",
            "                'FID': 10,\n",
            "                'GlobalID': 'd4a84cb9-8685-461a-ab5e-a19260656933',\n",
            "                'Hours': '11 a.m. - 3 p.m.',\n",
            "                'Link': 'http://www.morockinfusion.com/',\n",
            "                'Loc': 'Chinatown Park',\n",
            "                'Management': 'Rose Kennedy Greenway Conservancy',\n",
            "                'Notes': ' ',\n",
            "                'POINT_X': -7910324.35486,\n",
            "                'POINT_Y': 5213745.7545,\n",
            "                'Site_num': 0,\n",
            "                'Start_time': '11:00:00 AM',\n",
            "                'Time': 'Lunch',\n",
            "                'Title': 'Greenway',\n",
            "                'Truck': \"Mo'Rockin Fusion\"},\n",
            " 'geometry': {'x': -71.05965270349564, 'y': 42.351281064296}}\n",
            "Mo'Rockin Fusion is located at Chinatown Park between 11:00:00 AM and 3:00:00 PM\n",
            "\n",
            "Bon Me is located at Dewey Square Park: Plaza between 11:00:00 AM and 3:00:00 PM\n",
            "\n",
            "Sate (Momogoose) is located at Dewey Square Park: Congress Street between 11:00:00 AM and 3:00:00 PM\n",
            "\n",
            "Bon Me is located at Rowes Wharf Plaza between 11:00:00 AM and 3:00:00 PM\n",
            "\n",
            "Tenoch Mexican is located at 700 Boylston Street between 11:00:00 AM and 3:00:00 PM\n",
            "\n",
            "Papi's Stuffed Soapapillas is located at Boylston/Clarendon by Trinity Church between 11:00:00 AM and 3:00:00 PM\n",
            "\n",
            "Sabroso Taqueria is located at at Trinity Place between 11:00:00 AM and 3:00:00 PM\n",
            "\n",
            "Roxy’s Grilled Cheese is located at at Trinity Place between 11:00:00 AM and 3:00:00 PM\n",
            "\n",
            "Cod Squad is located at at Trinity Place between 11:00:00 AM and 3:00:00 PM\n",
            "\n",
            "Revelry is located at between Dalton St. and Huntington Ave. between 11:00:00 AM and 3:00:00 PM\n",
            "\n",
            "Baja Taco Truck is located at between Dalton St. and Huntington Ave. between 11:00:00 AM and 3:00:00 PM\n",
            "\n",
            "Bartleby's Seitan Stand is located at between Dalton St. and Huntington Ave. between 11:00:00 AM and 3:00:00 PM\n",
            "\n",
            "Perros Paisas is located at Boylston/Washington St. in front of China Trade Building between 11:00:00 AM and 3:00:00 PM\n",
            "\n",
            "Trolley Dogs is located at Fisher Park between 11:00:00 AM and 3:00:00 PM\n",
            "\n",
            "Spicy Salaa is located at Fisher Park between 11:00:00 AM and 3:00:00 PM\n",
            "\n",
            "The Whoopie Wagon is located at Fisher Park between 11:00:00 AM and 3:00:00 PM\n",
            "\n",
            "The Bacon Truck is located at Milk and Kilby Streets between 11:00:00 AM and 3:00:00 PM\n",
            "\n",
            "Redbones BBQ is located at Milk and Kilby Streets between 11:00:00 AM and 3:00:00 PM\n",
            "\n",
            "Daddy's Bonetown Burgers is located at Pearl and Franklin Streets between 11:00:00 AM and 3:00:00 PM\n",
            "\n",
            "Da Bomb is located at Seaport Blvd near Boston Wharf intersection between 11:00:00 AM and 3:00:00 PM\n",
            "\n",
            "Bibim Box is located at Blossom Street at Emerson Place between 11:00:00 AM and 3:00:00 PM\n",
            "\n",
            "The Dining Car is located at Dewey Square Park: Congress Street between 11:00:00 AM and 3:00:00 PM\n",
            "\n",
            "Clover is located at Dewey Square Park: Plaza between 11:00:00 AM and 3:00:00 PM\n",
            "\n",
            "Cookie Monstah is located at Dewey Square Park: Plaza between 11:00:00 AM and 3:00:00 PM\n",
            "\n",
            "Moyzilla is located at Dewey Square Park: Plaza between 11:00:00 AM and 3:00:00 PM\n",
            "\n",
            "North East of the Border is located at Dewey Square Park: Plaza between 11:00:00 AM and 3:00:00 PM\n",
            "\n",
            "Penny Packers is located at Dewey Square Park: Plaza between 11:00:00 AM and 3:00:00 PM\n",
            "\n",
            "Posto Mobile is located at Dewey Square Park: Plaza between 11:00:00 AM and 3:00:00 PM\n",
            "\n",
            "Quebrada Baking Co. is located at Dewey Square Park: Plaza between 11:00:00 AM and 3:00:00 PM\n",
            "\n",
            "Sheherazad is located at Dewey Square Park: Plaza between 11:00:00 AM and 3:00:00 PM\n",
            "\n",
            "Zo Food Truck is located at Dewey Square Park: Plaza between 11:00:00 AM and 3:00:00 PM\n",
            "\n",
            "Chicken & Rice Guys is located at Rowes Wharf Plaza between 11:00:00 AM and 3:00:00 PM\n",
            "\n",
            "Chubby Chickpea is located at Rowes Wharf Plaza between 11:00:00 AM and 3:00:00 PM\n",
            "\n",
            "Compliments is located at Rowes Wharf Plaza between 11:00:00 AM and 3:00:00 PM\n",
            "\n",
            "Gogi on the Block is located at Rowes Wharf Plaza between 11:00:00 AM and 3:00:00 PM\n",
            "\n",
            "Tenoch Mexican is located at Rowes Wharf Plaza between 11:00:00 AM and 3:00:00 PM\n",
            "\n",
            "Bon Me is located at Brewer Fountain Plaza (near Park Street Station) between 11:00:00 AM and 3:00:00 PM\n",
            "\n",
            "Cookie Monstah is located at Brewer Fountain Plaza (near Park Street Station) between 3:00:00 PM and 7:00:00 PM\n",
            "\n"
          ],
          "name": "stdout"
        }
      ]
    },
    {
      "metadata": {
        "id": "AO25_YfoY6ug",
        "colab_type": "text"
      },
      "cell_type": "markdown",
      "source": [
        "## Moving Permit"
      ]
    },
    {
      "metadata": {
        "id": "Nhu9LUObY-Tu",
        "colab_type": "code",
        "outputId": "56fc2094-f03e-4b9b-d528-e73848446952",
        "colab": {
          "base_uri": "https://localhost:8080/",
          "height": 425
        }
      },
      "cell_type": "code",
      "source": [
        "moving_trucks_url = 'https://services.arcgis.com/sFnw0xNflSi8J0uh/ArcGIS/rest/services/Moving_Truck_Permits/FeatureServer/0'\n",
        "\n",
        "# get moving permits\n",
        "permits = get_feature_location(moving_trucks_url, QUERY)\n",
        "\n",
        "active_permits = []\n",
        "for p in permits:\n",
        "  if p['attributes']['Status'] != 'EXPIRED':\n",
        "    active_permits.append(p)\n",
        "\n",
        "print('Hang on, this might take a while...')\n",
        "pprint(active_permits[0])"
      ],
      "execution_count": 0,
      "outputs": [
        {
          "output_type": "stream",
          "text": [
            "Hang on, this might take a while...\n",
            "{'attributes': {'Applican_1': 2115,\n",
            "                'Applicant1': 'MA',\n",
            "                'Applicant_': 'Boston',\n",
            "                'Applicatio': 'InPersonPermit',\n",
            "                'City': 'Boston',\n",
            "                'Comments': 'STAND MOVING VEHICLES AT CURB; 23 SPACES;FOR '\n",
            "                            'STUDENT MOVE-IN // 7AM TO 9PM;//;; RENEWAL',\n",
            "                'Descriptio': 'Moving Trucks',\n",
            "                'Expiration': 1504310400000,\n",
            "                'Is_contrac': 'N',\n",
            "                'Issued_dat': None,\n",
            "                'Lat': 42.342421,\n",
            "                'Long': -71.103967,\n",
            "                'OBJECTID': 5355,\n",
            "                'OccupancyT': ' ',\n",
            "                'PermitNumb': 'OCCU-170061',\n",
            "                'PermitType': 'Street Occupancy Permit',\n",
            "                'State': 'MA',\n",
            "                'Status': 'OPEN',\n",
            "                'Total_Fees': 1547,\n",
            "                'Worktype': 'Movetrucks',\n",
            "                'Zip': 2215},\n",
            " 'geometry': {'x': -71.10396700027678, 'y': 42.342421000328955}}\n"
          ],
          "name": "stdout"
        }
      ]
    },
    {
      "metadata": {
        "id": "tMvROGgCerc4",
        "colab_type": "text"
      },
      "cell_type": "markdown",
      "source": [
        "## Farmers Markets"
      ]
    },
    {
      "metadata": {
        "id": "GBCdW1NZewXX",
        "colab_type": "code",
        "outputId": "1dcfb551-7ae5-4bdc-8013-098262571510",
        "colab": {
          "base_uri": "https://localhost:8080/",
          "height": 187
        }
      },
      "cell_type": "code",
      "source": [
        "farmers_market_url = \"https://services.arcgis.com/sFnw0xNflSi8J0uh/ArcGIS/rest/services/Farmers_Markets_and_Fresh_Trucks/FeatureServer/0\"\n",
        "\n",
        "# this will return a list of all farmers markets in Boston\n",
        "markets = get_feature_location(farmers_market_url, QUERY)\n",
        "\n",
        "markets_unique = []\n",
        "for m in markets:\n",
        "  #print(m)\n",
        "  if m not in markets_unique and m['attributes']['Day_'] == DAY:\n",
        "    markets_unique.append(m)\n",
        "    #print(markets_unique)\n",
        "\n",
        "\n",
        "print('Avaiable farmers markets today are:')\n",
        "for m in markets_unique:\n",
        "  print(m['attributes']['Name'] + ' located at ' + \n",
        "        m['attributes']['Location'] + ' from ' + \n",
        "        m['attributes']['Start'])"
      ],
      "execution_count": 0,
      "outputs": [
        {
          "output_type": "stream",
          "text": [
            "Avaiable farmers markets today are:\n",
            "Boston Public Market located at Haymarket T Station from 8:00am - 8:00pm\n",
            "Social Saturdays at the Codman Square Farmers Market located at Codman Square Park/Common from 10:00am - 1:00pm\n",
            "Egleston Farmers Market located at Across from Sam Adams Brewery from 10:00am - 2:00pm\n",
            "Fields Corner Farmers Market located at Fields Corner Shopping Center from 9:00am - 12:00pm\n",
            "Mattapan Square Farmers Market located at Church of the Holy Spirit from 11:00am - 1:00pm\n",
            "Roslindale Village Main Street located at Near the Roslindale Commuter rail stop:Needham Line from 9:00am - 1:30pm\n",
            "Jamaica Plain Farmers Market located at Bank Of America parking lot from 12:00pm - 3:00pm\n",
            "Maverick Square T Stop located at   from 11:30 am - 3:30 pm\n",
            "Orient Heights located at   from 4:00 pm - 5:00 pm\n"
          ],
          "name": "stdout"
        }
      ]
    }
  ]
}